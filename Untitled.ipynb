{
 "cells": [
  {
   "cell_type": "code",
   "execution_count": 145,
   "id": "075f3880",
   "metadata": {},
   "outputs": [],
   "source": [
    "import cv2\n",
    "import numpy as np\n",
    "from skimage import io\n",
    "\n",
    "def show_image(image, title = ''):\n",
    "    cv2.imshow(title, image)\n",
    "    cv2.waitKey(0)\n",
    "    cv2.destroyAllWindows()\n",
    "\n",
    "# Load the input image and resize it by 0.5\n",
    "im = cv2.imread(\"d.png\")\n",
    "im1 = im.copy()"
   ]
  },
  {
   "cell_type": "code",
   "execution_count": 146,
   "outputs": [],
   "source": [
    "# Convert the resized image to grayscale\n",
    "gray = cv2.cvtColor(im1, cv2.COLOR_BGR2GRAY)"
   ],
   "metadata": {
    "collapsed": false
   }
  },
  {
   "cell_type": "code",
   "execution_count": 147,
   "id": "9009cf75",
   "metadata": {},
   "outputs": [],
   "source": [
    "# Compute the image gradients using Sobel operators\n",
    "gx = cv2.Sobel(gray, cv2.CV_64F, 1, 0, ksize=1)\n",
    "gy = cv2.Sobel(gray, cv2.CV_64F, 0, 1, ksize=1)\n",
    "mg = np.sqrt(gx ** 2 + gy ** 2)\n",
    "\n",
    "show_image(mg, 'after sobel')"
   ]
  },
  {
   "cell_type": "code",
   "execution_count": 148,
   "outputs": [],
   "source": [
    "# Threshold the gradient magnitude image\n",
    "mgBw = mg > 0.15 * np.max(mg)\n",
    "areaSize = (7, 7)\n",
    "\n",
    "# Perform morphological operations to remove small objects and fill holes\n",
    "mgBw = cv2.morphologyEx(mgBw.astype(np.uint8), cv2.MORPH_CLOSE,\n",
    "                        cv2.getStructuringElement(cv2.MORPH_ELLIPSE, areaSize))\n",
    "show_image(mgBw * 255, 'remove1')"
   ],
   "metadata": {
    "collapsed": false
   }
  },
  {
   "cell_type": "code",
   "execution_count": 149,
   "outputs": [],
   "source": [
    "# Substitude binary true pixels with colors from original image using cv2\n",
    "mgBw = cv2.bitwise_and(im1, im1, mask=mgBw.astype(np.uint8))\n",
    "show_image(mgBw, 'after morph')"
   ],
   "metadata": {
    "collapsed": false
   }
  },
  {
   "cell_type": "code",
   "execution_count": 150,
   "outputs": [],
   "source": [
    "# remove all pixels with value below threshold using opencv\n",
    "# convert to grayscale\n",
    "mgBw = cv2.cvtColor(mgBw, cv2.COLOR_BGR2GRAY)\n",
    "\n",
    "threshold = 180\n",
    "mgBw = cv2.threshold(mgBw, threshold, 255, cv2.THRESH_BINARY)[1]\n",
    "show_image(mgBw, 'after threshold')"
   ],
   "metadata": {
    "collapsed": false
   }
  },
  {
   "cell_type": "code",
   "execution_count": 151,
   "outputs": [],
   "source": [
    "# mgBw = cv2.morphologyEx(mgBw, cv2.MORPH_OPEN, cv2.getStructuringElement(cv2.MORPH_ELLIPSE, (7, 7)))\n",
    "# show_image(mgBw * 255, 'remove2')\n",
    "#\n",
    "# mgBw = cv2.morphologyEx(mgBw, cv2.MORPH_CLOSE, cv2.getStructuringElement(cv2.MORPH_ELLIPSE, (2, 2)))\n",
    "# show_image(mgBw * 255, 'remove3')"
   ],
   "metadata": {
    "collapsed": false
   }
  },
  {
   "cell_type": "code",
   "execution_count": null,
   "outputs": [],
   "source": [
    "# draw mask on the image\n",
    "contours, hierarchy = cv2.findContours(mgBw, cv2.RETR_TREE, cv2.CHAIN_APPROX_SIMPLE)\n",
    "cv2.drawContours(im1, contours, -1, (0, 255, 0), 3)\n",
    "show_image(im1, 'maska')"
   ],
   "metadata": {
    "collapsed": false,
    "pycharm": {
     "is_executing": true
    }
   }
  },
  {
   "cell_type": "code",
   "execution_count": 153,
   "outputs": [],
   "source": [
    "# # find average color in photo\n",
    "# average = im1.mean(axis=0).mean(axis=0)\n",
    "# average = np.uint8(average)\n",
    "# print(average)\n",
    "#\n",
    "# # paint mask with average color\n",
    "# mgBw = cv2.fillPoly(mgBw, [np.array([(0, 0), (0, im1.shape[0]), (im1.shape[1], im1.shape[0]), (im1.shape[1], 0)])], 130)\n",
    "# show_image(mgBw, 'after fill')"
   ],
   "metadata": {
    "collapsed": false
   }
  },
  {
   "cell_type": "code",
   "execution_count": 157,
   "outputs": [],
   "source": [
    "# Paint the mask using nearest neighbor interpolation\n",
    "for i in range(2):\n",
    "    final_image = cv2.inpaint(im, mgBw, 3, cv2.INPAINT_TELEA)\n",
    "show_image(final_image, 'final')\n"
   ],
   "metadata": {
    "collapsed": false
   }
  },
  {
   "cell_type": "code",
   "execution_count": 155,
   "outputs": [],
   "source": [
    "# mgBw = cv2.fillPoly(mgBw, [np.array([(0, 0), (0, im1.shape[0]), (im1.shape[1], im1.shape[0]), (im1.shape[1], 0)])], 1)\n",
    "\n",
    "# Display the output image\n",
    "# show_image(mgBw * 255, 'output')"
   ],
   "metadata": {
    "collapsed": false
   }
  },
  {
   "cell_type": "code",
   "execution_count": 155,
   "outputs": [],
   "source": [],
   "metadata": {
    "collapsed": false
   }
  }
 ],
 "metadata": {
  "kernelspec": {
   "display_name": "Python 3 (ipykernel)",
   "language": "python",
   "name": "python3"
  },
  "language_info": {
   "codemirror_mode": {
    "name": "ipython",
    "version": 3
   },
   "file_extension": ".py",
   "mimetype": "text/x-python",
   "name": "python",
   "nbconvert_exporter": "python",
   "pygments_lexer": "ipython3",
   "version": "3.9.13"
  }
 },
 "nbformat": 4,
 "nbformat_minor": 5
}
