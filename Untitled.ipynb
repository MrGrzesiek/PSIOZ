{
 "cells": [
  {
   "cell_type": "code",
   "execution_count": 10,
   "id": "075f3880",
   "metadata": {},
   "outputs": [
    {
     "data": {
      "text/plain": "array([[[175, 186, 194],\n        [176, 187, 195],\n        [185, 196, 204],\n        ...,\n        [ 56,  58,  58],\n        [ 53,  55,  55],\n        [ 55,  57,  57]],\n\n       [[173, 184, 192],\n        [184, 195, 203],\n        [175, 186, 194],\n        ...,\n        [ 59,  61,  61],\n        [ 55,  57,  57],\n        [ 56,  58,  58]],\n\n       [[175, 186, 194],\n        [184, 195, 203],\n        [172, 183, 191],\n        ...,\n        [ 55,  57,  57],\n        [ 53,  55,  55],\n        [ 57,  59,  59]],\n\n       ...,\n\n       [[171, 182, 186],\n        [168, 179, 183],\n        [166, 177, 181],\n        ...,\n        [ 38,  40,  41],\n        [ 37,  39,  40],\n        [ 37,  39,  40]],\n\n       [[172, 183, 187],\n        [169, 180, 184],\n        [175, 186, 190],\n        ...,\n        [ 39,  41,  42],\n        [ 38,  40,  41],\n        [ 39,  41,  42]],\n\n       [[168, 179, 183],\n        [175, 186, 190],\n        [172, 183, 187],\n        ...,\n        [ 38,  40,  41],\n        [ 40,  42,  43],\n        [ 39,  41,  42]]], dtype=uint8)"
     },
     "execution_count": 10,
     "metadata": {},
     "output_type": "execute_result"
    }
   ],
   "source": [
    "import cv2\n",
    "import numpy as np\n",
    "from skimage import io\n",
    "\n",
    "def show_image(image, title = ''):\n",
    "    cv2.imshow(title, image)\n",
    "    cv2.waitKey(0)\n",
    "    cv2.destroyAllWindows()\n",
    "\n",
    "# Load the input image and resize it by 0.5\n",
    "im = cv2.imread(\"test.jpg\")\n",
    "im1 = im.copy()\n",
    "cv2.resize(im, None, fx=0.5, fy=0.5)"
   ]
  },
  {
   "cell_type": "code",
   "execution_count": 11,
   "outputs": [],
   "source": [
    "# Convert the resized image to grayscale\n",
    "gray = cv2.cvtColor(im1, cv2.COLOR_BGR2GRAY)\n",
    "show_image(gray, 'gray')"
   ],
   "metadata": {
    "collapsed": false
   }
  },
  {
   "cell_type": "code",
   "execution_count": 16,
   "id": "e60aa794",
   "metadata": {},
   "outputs": [],
   "source": [
    "# Apply a Gaussian filter to the grayscale image\n",
    "gSize = 15\n",
    "gray = cv2.GaussianBlur(gray, (gSize, gSize), gSize / 2)\n",
    "show_image(gray, 'after gauss')"
   ]
  },
  {
   "cell_type": "code",
   "execution_count": null,
   "id": "9009cf75",
   "metadata": {},
   "outputs": [],
   "source": [
    "# Compute the image gradients using Sobel operators\n",
    "gx = cv2.Sobel(gray, cv2.CV_64F, 1, 0, ksize=1)\n",
    "gy = cv2.Sobel(gray, cv2.CV_64F, 0, 1, ksize=1)\n",
    "mg = np.sqrt(gx ** 2 + gy ** 2)\n",
    "#cv2.imshow('SOBEL', mg)\n",
    "#show_image(mg)"
   ]
  },
  {
   "cell_type": "code",
   "execution_count": null,
   "outputs": [],
   "source": [
    "# Threshold the gradient magnitude image\n",
    "mgBw = mg > 0.3 * np.max(mg)\n",
    "\n",
    "# Perform morphological operations to remove small objects and fill holes\n",
    "mgBw = cv2.morphologyEx(mgBw.astype(np.uint8), cv2.MORPH_CLOSE,\n",
    "                        cv2.getStructuringElement(cv2.MORPH_ELLIPSE, (5, 5)))\n",
    "show_image(mgBw * 255, 'remove1')"
   ],
   "metadata": {
    "collapsed": false
   }
  },
  {
   "cell_type": "code",
   "execution_count": null,
   "outputs": [],
   "source": [
    "mgBw = cv2.morphologyEx(mgBw, cv2.MORPH_OPEN, cv2.getStructuringElement(cv2.MORPH_ELLIPSE, (7, 7)))\n",
    "show_image(mgBw * 255, 'remove2')\n",
    "\n",
    "mgBw = cv2.morphologyEx(mgBw, cv2.MORPH_CLOSE, cv2.getStructuringElement(cv2.MORPH_ELLIPSE, (11, 11)))\n",
    "show_image(mgBw * 255, 'remove3')"
   ],
   "metadata": {
    "collapsed": false
   }
  },
  {
   "cell_type": "code",
   "execution_count": null,
   "outputs": [],
   "source": [
    "# draw outlines of the mask on image\n",
    "\n",
    "contours, hierarchy = cv2.findContours(mgBw, cv2.RETR_TREE, cv2.CHAIN_APPROX_SIMPLE)\n",
    "cv2.drawContours(im1, contours, -1, (0, 255, 0), 3)\n",
    "show_image(im1, 'maska')"
   ],
   "metadata": {
    "collapsed": false
   }
  },
  {
   "cell_type": "code",
   "execution_count": null,
   "outputs": [],
   "source": [
    "mgBw = cv2.fillPoly(mgBw, [np.array([(0, 0), (0, im1.shape[0]), (im1.shape[1], im1.shape[0]), (im1.shape[1], 0)])], 1)\n",
    "\n",
    "# Display the output image\n",
    "show_image(mgBw * 255, 'output')"
   ],
   "metadata": {
    "collapsed": false
   }
  }
 ],
 "metadata": {
  "kernelspec": {
   "display_name": "Python 3 (ipykernel)",
   "language": "python",
   "name": "python3"
  },
  "language_info": {
   "codemirror_mode": {
    "name": "ipython",
    "version": 3
   },
   "file_extension": ".py",
   "mimetype": "text/x-python",
   "name": "python",
   "nbconvert_exporter": "python",
   "pygments_lexer": "ipython3",
   "version": "3.9.13"
  }
 },
 "nbformat": 4,
 "nbformat_minor": 5
}
