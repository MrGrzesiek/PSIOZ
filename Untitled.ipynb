{
 "cells": [
  {
   "cell_type": "code",
   "execution_count": 199,
   "id": "075f3880",
   "metadata": {},
   "outputs": [],
   "source": [
    "import cv2\n",
    "import numpy as np\n",
    "\n",
    "def show_image(image, title):\n",
    "    cv2.imshow(title, image)\n",
    "    cv2.waitKey(0)\n",
    "    cv2.destroyAllWindows()"
   ]
  },
  {
   "cell_type": "code",
   "execution_count": 200,
   "outputs": [],
   "source": [
    "# Load the input image\n",
    "im = cv2.imread(\"test.jpg\")\n",
    "im1 = im.copy()"
   ],
   "metadata": {
    "collapsed": false
   }
  },
  {
   "cell_type": "code",
   "execution_count": 201,
   "outputs": [],
   "source": [
    "# Convert the resized image to grayscale\n",
    "gray = cv2.cvtColor(im1, cv2.COLOR_BGR2GRAY)\n",
    "#show_image(gray, 'gray')"
   ],
   "metadata": {
    "collapsed": false
   }
  },
  {
   "cell_type": "code",
   "execution_count": 202,
   "outputs": [],
   "source": [
    "# Blur the image\n",
    "#gray = cv2.GaussianBlur(gray, (5, 5), 0)\n",
    "#show_image(gray, 'blurred')\n",
    "\n",
    "# sharpen the image\n",
    "#gray = cv2.addWeighted(gray, 1.5, gray, -0.5, 0)\n",
    "#show_image(gray, 'sharpened')"
   ],
   "metadata": {
    "collapsed": false
   }
  },
  {
   "cell_type": "code",
   "execution_count": 203,
   "id": "9009cf75",
   "metadata": {},
   "outputs": [],
   "source": [
    "# Compute the image gradients using Sobel operators\n",
    "gx = cv2.Sobel(gray, cv2.CV_64F, 1, 0, ksize=1)\n",
    "gy = cv2.Sobel(gray, cv2.CV_64F, 0, 1, ksize=1)\n",
    "mg = np.sqrt(gx ** 2 + gy ** 2)\n",
    "\n",
    "#show_image(mg, 'after sobel')"
   ]
  },
  {
   "cell_type": "code",
   "execution_count": 204,
   "outputs": [],
   "source": [
    "def get_mask(magnitude, magnitude_threshold, area_size):\n",
    "    # Threshold the gradient magnitude image\n",
    "    magnitude_black_white = magnitude > magnitude_threshold * np.max(magnitude)\n",
    "    # Perform morphological operations to remove small objects and fill holes\n",
    "    magnitude_black_white = cv2.morphologyEx(magnitude_black_white.astype(np.uint8), cv2.MORPH_CLOSE,\n",
    "                            cv2.getStructuringElement(cv2.MORPH_ELLIPSE, area_size))\n",
    "    return magnitude_black_white"
   ],
   "metadata": {
    "collapsed": false
   }
  },
  {
   "cell_type": "code",
   "execution_count": 205,
   "outputs": [],
   "source": [
    "# Threshold the gradient magnitude image\n",
    "#mgBw = mg > 0.20 * np.max(mg)\n",
    "areaSize = (7, 7)\n",
    "threshold = 0.15\n",
    "\n",
    "mgBw = get_mask(mg, threshold, areaSize)\n",
    "# Perform morphological operations to remove small objects and fill holes\n",
    "#mgBw = cv2.morphologyEx(mgBw.astype(np.uint8), cv2.MORPH_CLOSE,\n",
    "#                        cv2.getStructuringElement(cv2.MORPH_ELLIPSE, areaSize))\n",
    "show_image(mgBw * 255, 'remove1')"
   ],
   "metadata": {
    "collapsed": false
   }
  },
  {
   "cell_type": "code",
   "execution_count": 206,
   "outputs": [],
   "source": [
    "# Substitude binary true pixels with colors from original image using cv2\n",
    "mgBw = cv2.bitwise_and(im1, im1, mask=mgBw.astype(np.uint8))\n",
    "#show_image(mgBw, 'after morph')"
   ],
   "metadata": {
    "collapsed": false
   }
  },
  {
   "cell_type": "code",
   "execution_count": 207,
   "outputs": [],
   "source": [
    "# remove all pixels with value below threshold using opencv\n",
    "# convert to grayscale\n",
    "mgBw = cv2.cvtColor(mgBw, cv2.COLOR_BGR2GRAY)\n",
    "\n",
    "threshold = 180\n",
    "mgBw = cv2.threshold(mgBw, threshold, 255, cv2.THRESH_BINARY)[1]\n",
    "show_image(mgBw, 'after threshold')"
   ],
   "metadata": {
    "collapsed": false
   }
  },
  {
   "cell_type": "code",
   "execution_count": 208,
   "outputs": [],
   "source": [
    " # draw mask on the image\n",
    "contours, hierarchy = cv2.findContours(mgBw, cv2.RETR_TREE, cv2.CHAIN_APPROX_SIMPLE)\n",
    "cv2.drawContours(im1, contours, -1, (0, 255, 0), 1)\n",
    "show_image(im1, 'maska')"
   ],
   "metadata": {
    "collapsed": false
   }
  },
  {
   "cell_type": "code",
   "execution_count": 209,
   "outputs": [],
   "source": [
    "# Invert the mask\n",
    "inpaintMask = mgBw\n",
    "\n",
    "show_image(inpaintMask, 'inpaintMask')\n",
    "cv2.imwrite('inpaintMask.jpg', inpaintMask)\n",
    "\n",
    "# load the mask\n",
    "final_mask = cv2.imread('inpaintMask.jpg', 0)\n",
    "# threshold the mask\n",
    "final_mask = cv2.threshold(final_mask, 180, 255, cv2.THRESH_BINARY)[1]\n",
    "\n",
    "# load the im\n",
    "final_im = im.copy()"
   ],
   "metadata": {
    "collapsed": false
   }
  },
  {
   "cell_type": "code",
   "execution_count": 210,
   "outputs": [
    {
     "data": {
      "text/plain": "True"
     },
     "execution_count": 210,
     "metadata": {},
     "output_type": "execute_result"
    }
   ],
   "source": [
    "# apply morphology dilate\n",
    "kernel = cv2.getStructuringElement(cv2.MORPH_ELLIPSE, (5,5))\n",
    "final_mask = cv2.morphologyEx(final_mask, cv2.MORPH_DILATE, kernel)\n",
    "cv2.imwrite('final_mask.jpg', final_mask)"
   ],
   "metadata": {
    "collapsed": false
   }
  },
  {
   "cell_type": "code",
   "execution_count": 211,
   "outputs": [
    {
     "data": {
      "text/plain": "True"
     },
     "execution_count": 211,
     "metadata": {},
     "output_type": "execute_result"
    }
   ],
   "source": [
    "# Paint the mask using nearest neighbor interpolation\n",
    "final_image = cv2.inpaint(im, final_mask, 5, cv2.INPAINT_TELEA)\n",
    "final_image = cv2.inpaint(im, final_mask, 5, cv2.INPAINT_NS)\n",
    "show_image(final_image, 'final')\n",
    "cv2.imwrite('final.jpg', final_image)"
   ],
   "metadata": {
    "collapsed": false
   }
  }
 ],
 "metadata": {
  "kernelspec": {
   "display_name": "Python 3 (ipykernel)",
   "language": "python",
   "name": "python3"
  },
  "language_info": {
   "codemirror_mode": {
    "name": "ipython",
    "version": 3
   },
   "file_extension": ".py",
   "mimetype": "text/x-python",
   "name": "python",
   "nbconvert_exporter": "python",
   "pygments_lexer": "ipython3",
   "version": "3.9.13"
  }
 },
 "nbformat": 4,
 "nbformat_minor": 5
}
