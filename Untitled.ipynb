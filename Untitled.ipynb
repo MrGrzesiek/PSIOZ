{
 "cells": [
  {
   "cell_type": "code",
   "execution_count": 1,
   "id": "075f3880",
   "metadata": {},
   "outputs": [],
   "source": [
    "import cv2\n",
    "import numpy as np\n",
    "from skimage import io\n",
    "\n",
    "def show_image(image, title = ''):\n",
    "    cv2.imshow(title, image)\n",
    "    cv2.waitKey(0)\n",
    "    cv2.destroyAllWindows()\n",
    "\n",
    "# Load the input image\n",
    "im = cv2.imread(\"test.jpg\")\n",
    "im1 = im.copy()"
   ]
  },
  {
   "cell_type": "code",
   "execution_count": 2,
   "outputs": [],
   "source": [
    "# Convert the resized image to grayscale\n",
    "gray = cv2.cvtColor(im1, cv2.COLOR_BGR2GRAY)\n",
    "show_image(gray, 'gray')"
   ],
   "metadata": {
    "collapsed": false
   }
  },
  {
   "cell_type": "code",
   "execution_count": 3,
   "id": "9009cf75",
   "metadata": {},
   "outputs": [],
   "source": [
    "# Compute the image gradients using Sobel operators\n",
    "gx = cv2.Sobel(gray, cv2.CV_64F, 1, 0, ksize=1)\n",
    "gy = cv2.Sobel(gray, cv2.CV_64F, 0, 1, ksize=1)\n",
    "mg = np.sqrt(gx ** 2 + gy ** 2)\n",
    "\n",
    "show_image(mg, 'after sobel')"
   ]
  },
  {
   "cell_type": "code",
   "execution_count": 4,
   "outputs": [],
   "source": [
    "# Threshold the gradient magnitude image\n",
    "mgBw = mg > 0.15 * np.max(mg)\n",
    "areaSize = (7, 7)\n",
    "\n",
    "# Perform morphological operations to remove small objects and fill holes\n",
    "mgBw = cv2.morphologyEx(mgBw.astype(np.uint8), cv2.MORPH_CLOSE,\n",
    "                        cv2.getStructuringElement(cv2.MORPH_ELLIPSE, areaSize))\n",
    "show_image(mgBw * 255, 'remove1')"
   ],
   "metadata": {
    "collapsed": false
   }
  },
  {
   "cell_type": "code",
   "execution_count": 5,
   "outputs": [],
   "source": [
    "# Substitude binary true pixels with colors from original image using cv2\n",
    "mgBw = cv2.bitwise_and(im1, im1, mask=mgBw.astype(np.uint8))\n",
    "show_image(mgBw, 'after morph')"
   ],
   "metadata": {
    "collapsed": false
   }
  },
  {
   "cell_type": "code",
   "execution_count": 6,
   "outputs": [],
   "source": [
    "# remove all pixels with value below threshold using opencv\n",
    "# convert to grayscale\n",
    "mgBw = cv2.cvtColor(mgBw, cv2.COLOR_BGR2GRAY)\n",
    "\n",
    "threshold = 180\n",
    "mgBw = cv2.threshold(mgBw, threshold, 255, cv2.THRESH_BINARY)[1]\n",
    "show_image(mgBw, 'after threshold')"
   ],
   "metadata": {
    "collapsed": false
   }
  },
  {
   "cell_type": "code",
   "execution_count": 7,
   "outputs": [],
   "source": [
    "# draw mask on the image\n",
    "contours, hierarchy = cv2.findContours(mgBw, cv2.RETR_TREE, cv2.CHAIN_APPROX_SIMPLE)\n",
    "cv2.drawContours(im1, contours, -1, (0, 255, 0), 1)\n",
    "show_image(im1, 'maska')"
   ],
   "metadata": {
    "collapsed": false
   }
  },
  {
   "cell_type": "code",
   "execution_count": 12,
   "outputs": [],
   "source": [
    "def paint_mask_on_image_with_blur(image, mask, blur_radius):\n",
    "    # Convert the image and mask to the appropriate data types\n",
    "    image = np.array(image, dtype=np.uint8)\n",
    "    mask = np.array(mask, dtype=np.uint8)\n",
    "\n",
    "    # Resize the mask to match the image dimensions\n",
    "    mask = cv2.resize(mask, (image.shape[1], image.shape[0]))\n",
    "\n",
    "    # Create a blurred version of the image\n",
    "    blurred_image = cv2.GaussianBlur(image, (blur_radius, blur_radius), 0)\n",
    "\n",
    "    image_channels = cv2.split(image)\n",
    "    modification_channels = cv2.split(blurred_image)\n",
    "\n",
    "    # Apply the modification to each channel of the masked pixels\n",
    "    modified_channels = []\n",
    "    for channel, mod_channel in zip(image_channels, modification_channels):\n",
    "        modified_channel = np.where(mask > 0, mod_channel, channel)\n",
    "        modified_channels.append(modified_channel)\n",
    "\n",
    "    # paint modified mask on the image\n",
    "    return cv2.merge(modified_channels)"
   ],
   "metadata": {
    "collapsed": false
   }
  },
  {
   "cell_type": "code",
   "execution_count": null,
   "outputs": [],
   "source": [
    "# Invert the mask\n",
    "inpaintMask = mgBw #cv2.bitwise_not(mgBw)\n",
    "\n",
    "# Show the mask\n",
    "show_image(inpaintMask, 'mask')\n",
    "# Paint the mask using nearest neighbor interpolation\n",
    "# for i in range(2):\n",
    "#     final_image = cv2.inpaint(im, mgBw, 3, cv2.INPAINT_TELEA)\n",
    "# show_image(final_image, 'final')\n",
    "\n",
    "# Paint the mask using using inpaintMask\n",
    "# final_image = cv2.inpaint(inpaintMask, im, 3, cv2.INPAINT_TELEA)\n",
    "# show_image(final_image, 'final_x')\n",
    "\n",
    "\n",
    "# Paint the blurred image onto the mask\n",
    "blur_radius = 17\n",
    "# convert im to rgb\n",
    "im = cv2.cvtColor(im, cv2.COLOR_BGR2RGB)\n",
    "show_image(im, 'im')\n",
    "result = paint_mask_on_image_with_blur(im, inpaintMask, blur_radius)#paint_blurred_image(im, inpaintMask, blur_radius)\n",
    "\n",
    "# Display the result\n",
    "show_image(result, 'result')"
   ],
   "metadata": {
    "collapsed": false,
    "pycharm": {
     "is_executing": true
    }
   }
  },
  {
   "cell_type": "code",
   "execution_count": 26,
   "outputs": [],
   "source": [
    "# mgBw = cv2.fillPoly(mgBw, [np.array([(0, 0), (0, im1.shape[0]), (im1.shape[1], im1.shape[0]), (im1.shape[1], 0)])], 1)\n",
    "\n",
    "# Display the output image\n",
    "# show_image(mgBw * 255, 'output')"
   ],
   "metadata": {
    "collapsed": false
   }
  },
  {
   "cell_type": "code",
   "execution_count": null,
   "outputs": [],
   "source": [],
   "metadata": {
    "collapsed": false
   }
  }
 ],
 "metadata": {
  "kernelspec": {
   "display_name": "Python 3 (ipykernel)",
   "language": "python",
   "name": "python3"
  },
  "language_info": {
   "codemirror_mode": {
    "name": "ipython",
    "version": 3
   },
   "file_extension": ".py",
   "mimetype": "text/x-python",
   "name": "python",
   "nbconvert_exporter": "python",
   "pygments_lexer": "ipython3",
   "version": "3.9.13"
  }
 },
 "nbformat": 4,
 "nbformat_minor": 5
}
