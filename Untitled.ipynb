{
 "cells": [
  {
   "cell_type": "code",
   "execution_count": null,
   "id": "99383479",
   "metadata": {},
   "outputs": [],
   "source": [
    "# compute gamma = log(mid*255)/log(mean)\n",
    "\n",
    "mid = 0.5\n",
    "mean = np.mean(gray_image)\n",
    "gamma = math.log(mid*255)/math.log(mean)\n",
    "print(gamma)\n",
    "\n",
    "# do gamma correction\n",
    "\n",
    "img_gamma1 = np.power(image, gamma).clip(0,255).astype(np.uint8)\n",
    "\n",
    "# convert img to HSV\n",
    "hsv = cv2.cvtColor(image, cv2.COLOR_BGR2HSV)\n",
    "hue, sat, val = cv2.split(hsv)\n",
    "\n",
    "# compute gamma = log(mid*255)/log(mean)\n",
    "mid = 0.5\n",
    "mean = np.mean(val)\n",
    "gamma = math.log(mid*255)/math.log(mean)\n",
    "print(gamma)\n",
    "\n",
    "# do gamma correction on value channel\n",
    "val_gamma = np.power(val, gamma).clip(0,255).astype(np.uint8)\n",
    "\n",
    "# combine new value channel with original hue and sat channels\n",
    "hsv_gamma = cv2.merge([hue, sat, val_gamma])\n",
    "img_gamma2 = cv2.cvtColor(hsv_gamma, cv2.COLOR_HSV2BGR)\n",
    "\n",
    "# show results\n",
    "cv2.imshow('input', image)\n",
    "cv2.imshow('result1', img_gamma1)\n",
    "cv2.imshow('result2', img_gamma2)\n",
    "cv2.waitKey(0)\n",
    "cv2.destroyAllWindows()\n",
    "\n",
    "\n",
    "gray_image = cv2.cvtColor(img_gamma2, cv2.COLOR_BGR2GRAY)\n",
    "image_work = img_gamma2.copy()"
   ]
  },
  {
   "cell_type": "code",
   "execution_count": null,
   "id": "8873ab25",
   "metadata": {},
   "outputs": [],
   "source": [
    "import cv2\n",
    "import numpy as np\n",
    "\n",
    "\n",
    "def gammaCorrection(src, gamma):\n",
    "    invGamma = 1 / gamma\n",
    "\n",
    "    table = [((i / 255) ** invGamma) * 255 for i in range(256)]\n",
    "    table = np.array(table, np.uint8)\n",
    "    img=cv2.LUT(src, table)\n",
    "    return img\n",
    "\n",
    "\n",
    "gammaImg = gammaCorrection(image, 0.5)\n",
    "\n",
    "cv2.imshow('Original image', image)\n",
    "cv2.imshow('Gamma corrected image', gammaImg)\n",
    "cv2.waitKey(0)\n",
    "cv2.destroyAllWindows()\n",
    "image_work=gammaImg\n",
    "\n"
   ]
  },
  {
   "cell_type": "code",
   "execution_count": null,
   "id": "c23567b4",
   "metadata": {},
   "outputs": [],
   "source": [
    "# define the contrast and brightness value\n",
    "\n",
    "contrast = 1.4 # Contrast control ( 0 to 127)\n",
    "brightness = 1 # Brightness control (0-100)\n",
    "\n",
    "# call addWeighted function. use beta = 0 to effectively only operate on one image\n",
    "\n",
    "image_work = cv2.addWeighted( image_work, contrast, image_work, 0, brightness)\n",
    "\n",
    "# display the image with changed contrast and brightness\n",
    "\n",
    "cv2.imshow('before', image)\n",
    "cv2.imshow('adjusted', image_work)\n",
    "cv2.waitKey(0)\n",
    "cv2.destroyAllWindows()"
   ]
  },
  {
   "cell_type": "code",
   "execution_count": null,
   "id": "94bcaf9e",
   "metadata": {},
   "outputs": [],
   "source": [
    "# define the alpha and beta\n",
    "alpha = 1.25 # Contrast control\n",
    "beta = 0.9 # Brightness control\n",
    "\n",
    "# call convertScaleAbs function\n",
    "image_work = cv2.convertScaleAbs(image, alpha=alpha, beta=beta)\n",
    "\n",
    "# display the output image\n",
    "cv2.imshow('orginal', image)\n",
    "cv2.imshow('adjusted', image_work)\n",
    "cv2.waitKey()\n",
    "cv2.destroyAllWindows()"
   ]
  },
  {
   "cell_type": "code",
   "execution_count": null,
   "id": "b2ff5ae7",
   "metadata": {},
   "outputs": [],
   "source": [
    "# Blur the image\n",
    "gray_image = cv2.GaussianBlur(gray_image, (5, 5), 0)\n",
    "show_image(gray_image, 'blurred')\n",
    "\n",
    "# sharpen the image\n",
    "gray_image = cv2.addWeighted(gray_image, 1.5, gray_image, -0.5, 0)\n",
    "show_image(gray_image, 'sharpened')"
   ]
  },
  {
   "cell_type": "code",
   "execution_count": 1,
   "id": "fe298dbc",
   "metadata": {},
   "outputs": [],
   "source": [
    "#NOWY FILTR NA MAŁE BRUDY\n",
    "#LEPSZA METODA WYPEŁNIENIA KONTURU\n",
    "#ZNALEŚĆ SPOSÓB NA POZBYCIE SIĘ ZIARNA\n",
    "#EWENTUALNE WYOSTRZANIE\n",
    "\n",
    "#BIG BOSS\n",
    "#AUTOMATYZACJA DOBORU PARAMETRÓW\n",
    "\n",
    "#DOPRACOWAC PIERWSZY TRESHOLD\n",
    "\n",
    "####################################\n",
    "#####-------PARAMETRY---------######\n",
    "####################################\n",
    "\n",
    "#areaSize = (1,1)\n",
    "#threshold_for_mask = 0.15\n",
    "#threshold = 180\n",
    "#kernelsize = (5,5)\n",
    "\n",
    "load=\"dotestu/hop5.jpg\"\n",
    "#load=\"v1.0/wynik.jpg\"\n",
    "save=\"v1.0/wynik.jpg\"\n",
    "#save=\"v1.0/wynik2.jpg\""
   ]
  },
  {
   "cell_type": "code",
   "execution_count": 2,
   "id": "075f3880",
   "metadata": {},
   "outputs": [],
   "source": [
    "import cv2\n",
    "import numpy as np\n",
    "from matplotlib import pyplot as plt\n",
    "import math"
   ]
  },
  {
   "cell_type": "code",
   "execution_count": 3,
   "id": "53a91827",
   "metadata": {},
   "outputs": [],
   "source": [
    "def show_image(image, title):\n",
    "    cv2.imshow(title, image)\n",
    "    cv2.waitKey(0)\n",
    "    cv2.destroyAllWindows()"
   ]
  },
  {
   "cell_type": "code",
   "execution_count": 4,
   "id": "040bdc3b",
   "metadata": {},
   "outputs": [],
   "source": [
    "def get_mask(magnitude, magnitude_threshold, area_size):\n",
    "    # Threshold the gradient magnitude image\n",
    "    magnitude_black_white = magnitude > magnitude_threshold * np.max(magnitude)\n",
    "    # Perform morphological operations to remove small objects and fill holes\n",
    "    magnitude_black_white = cv2.morphologyEx(magnitude_black_white.astype(np.uint8), cv2.MORPH_CLOSE,\n",
    "                            cv2.getStructuringElement(cv2.MORPH_ELLIPSE, area_size))\n",
    "    return magnitude_black_white"
   ]
  },
  {
   "cell_type": "code",
   "execution_count": 5,
   "id": "7db067d9",
   "metadata": {},
   "outputs": [],
   "source": [
    "# Load the input image\n",
    "image = cv2.imread(load)\n",
    "image_work = image.copy()"
   ]
  },
  {
   "cell_type": "code",
   "execution_count": 6,
   "id": "9a7dc6af",
   "metadata": {},
   "outputs": [],
   "source": [
    "# Inverse by subtracting from 255\n",
    "image_work = 255 - image\n",
    "\n",
    "#Plot the Inverse image\n",
    "show_image(image,'input')\n",
    "show_image(image_work,'result')\n",
    "#cv2.imshow('input', image)\n",
    "#cv2.imshow('result', image_work)\n",
    "#cv2.waitKey(0)\n",
    "#cv2.destroyAllWindows()\n"
   ]
  },
  {
   "cell_type": "code",
   "execution_count": 7,
   "id": "11bffaaf",
   "metadata": {
    "scrolled": false
   },
   "outputs": [],
   "source": [
    "# Convert image to grayscale\n",
    "gray_image = cv2.cvtColor(image_work, cv2.COLOR_BGR2GRAY)"
   ]
  },
  {
   "cell_type": "code",
   "execution_count": 8,
   "id": "9009cf75",
   "metadata": {},
   "outputs": [],
   "source": [
    "# Compute the image gradients using Sobel operators\n",
    "gx = cv2.Sobel(gray_image, cv2.CV_64F, 1, 0, ksize=1)\n",
    "gy = cv2.Sobel(gray_image, cv2.CV_64F, 0, 1, ksize=1)\n",
    "\n",
    "#NOWA WERSJA\n",
    "abs_grad_x = cv2.convertScaleAbs(gx)\n",
    "abs_grad_y = cv2.convertScaleAbs(gy)\n",
    "mg = cv2.addWeighted(abs_grad_x, 0.5, abs_grad_y, 0.5, 0)\n",
    "\n",
    "#STARA WERSJA\n",
    "#mg = np.sqrt(gx ** 2 + gy ** 2)"
   ]
  },
  {
   "cell_type": "code",
   "execution_count": 9,
   "id": "90aaba0f",
   "metadata": {},
   "outputs": [],
   "source": [
    "# Threshold the gradient magnitude image\n",
    "#mgBw = mg > 0.20 * np.max(mg)\n",
    "\n",
    "#areaSize = (7,7)\n",
    "#threshold = 0.15\n",
    "\n",
    "areaSize = (1,1)\n",
    "threshold_for_mask = 0.15\n",
    "\n",
    "mask = get_mask(mg, threshold_for_mask, areaSize)\n",
    "# Perform morphological operations to remove small objects and fill holes\n",
    "#mgBw = cv2.morphologyEx(mgBw.astype(np.uint8), cv2.MORPH_CLOSE,\n",
    "#                        cv2.getStructuringElement(cv2.MORPH_ELLIPSE, areaSize))\n",
    "#print(mgBw)\n",
    "show_image(mask*255, 'firstmask')"
   ]
  },
  {
   "cell_type": "code",
   "execution_count": 10,
   "id": "8de78cea",
   "metadata": {},
   "outputs": [],
   "source": [
    "# Substitude binary true pixels with colors from original image using cv2\n",
    "\n",
    "mask = cv2.bitwise_and(image_work, image_work, mask=mask.astype(np.uint8))\n",
    "#show_image(mask, 'bitwise')"
   ]
  },
  {
   "cell_type": "code",
   "execution_count": 11,
   "id": "4284d1f2",
   "metadata": {},
   "outputs": [],
   "source": [
    "# remove all pixels with value below threshold using opencv\n",
    "# convert to grayscale\n",
    "mask = cv2.cvtColor(mask, cv2.COLOR_BGR2GRAY)\n",
    "#show_image(mask, 'color')\n",
    "#threshold = 180\n",
    "threshold = 180\n",
    "mask = cv2.threshold(mask, threshold, 255, cv2.THRESH_BINARY)[1]\n",
    "\n",
    "################################\n",
    "#mgBw = cv2.bitwise_and(im1, im1, mask=mgBw.astype(np.uint8))\n",
    "#show_image(mgBw, 'after morph')\n",
    "\n",
    "#mgBw = cv2.cvtColor(mgBw, cv2.COLOR_BGR2GRAY)\n",
    "################################\n",
    "show_image(mask, 'after threshold')\n",
    "\n",
    "#domykanie konturu WERSJA BETA\n",
    "M=cv2.getStructuringElement(cv2.MORPH_ELLIPSE, (5,5))\n",
    "mask=cv2.morphologyEx(mask, cv2.MORPH_CLOSE, M)\n",
    "#print(mgBw)\n",
    "show_image(mask, 'close')"
   ]
  },
  {
   "cell_type": "code",
   "execution_count": 12,
   "id": "46aaf55e",
   "metadata": {},
   "outputs": [
    {
     "data": {
      "text/plain": [
       "True"
      ]
     },
     "execution_count": 12,
     "metadata": {},
     "output_type": "execute_result"
    }
   ],
   "source": [
    " # draw mask on the image\n",
    "contours, hierarchy = cv2.findContours(mask, cv2.RETR_TREE, cv2.CHAIN_APPROX_SIMPLE)\n",
    "cv2.drawContours(image_work, contours, -1, (0, 0, 255), 1)\n",
    "show_image(image_work, 'maska')\n",
    "cv2.imwrite('v1.0/kontur.jpg', image_work)"
   ]
  },
  {
   "cell_type": "code",
   "execution_count": 13,
   "id": "43549b84",
   "metadata": {
    "scrolled": true
   },
   "outputs": [
    {
     "data": {
      "text/plain": [
       "True"
      ]
     },
     "execution_count": 13,
     "metadata": {},
     "output_type": "execute_result"
    }
   ],
   "source": [
    "# Save mask\n",
    "show_image(mask, 'Mask')\n",
    "cv2.imwrite('v1.0/Mask.jpg', mask)"
   ]
  },
  {
   "cell_type": "code",
   "execution_count": 14,
   "id": "2037026e",
   "metadata": {},
   "outputs": [
    {
     "data": {
      "text/plain": [
       "True"
      ]
     },
     "execution_count": 14,
     "metadata": {},
     "output_type": "execute_result"
    }
   ],
   "source": [
    "# apply morphology dilate\n",
    "wideMask = mask.copy()\n",
    "kernel = cv2.getStructuringElement(cv2.MORPH_ELLIPSE, (1,1))\n",
    "wideMask = cv2.morphologyEx(wideMask, cv2.MORPH_DILATE, kernel)\n",
    "cv2.imwrite('v1.0/final_mask.jpg', wideMask)"
   ]
  },
  {
   "cell_type": "code",
   "execution_count": 15,
   "id": "4bf3b3b0",
   "metadata": {},
   "outputs": [],
   "source": [
    "final_image = image.copy()\n",
    "# Paint the mask using nearest neighbor interpolation\n",
    "final_image = cv2.inpaint(image, wideMask, 5, cv2.INPAINT_TELEA)\n",
    "cv2.imshow('input', image)\n",
    "cv2.imshow('final', final_image)\n",
    "cv2.waitKey(0)\n",
    "cv2.destroyAllWindows()\n",
    "cv2.imwrite(save, final_image)\n",
    "image_work = final_image.copy()"
   ]
  },
  {
   "cell_type": "code",
   "execution_count": 16,
   "id": "0af23511",
   "metadata": {},
   "outputs": [],
   "source": [
    "##################################\n",
    "#####----DRUGIE PRZEJSCIE----#####\n",
    "##################################"
   ]
  },
  {
   "cell_type": "code",
   "execution_count": 17,
   "id": "41778bd6",
   "metadata": {},
   "outputs": [],
   "source": [
    "# Convert image to grayscale\n",
    "gray_image = cv2.cvtColor(image_work, cv2.COLOR_BGR2GRAY)"
   ]
  },
  {
   "cell_type": "code",
   "execution_count": 18,
   "id": "1e120272",
   "metadata": {},
   "outputs": [],
   "source": [
    "# Compute the image gradients using Sobel operators\n",
    "gx = cv2.Sobel(gray_image, cv2.CV_64F, 1, 0, ksize=1)\n",
    "gy = cv2.Sobel(gray_image, cv2.CV_64F, 0, 1, ksize=1)\n",
    "\n",
    "#NOWA WERSJA\n",
    "abs_grad_x = cv2.convertScaleAbs(gx)\n",
    "abs_grad_y = cv2.convertScaleAbs(gy)\n",
    "mg = cv2.addWeighted(abs_grad_x, 0.5, abs_grad_y, 0.5, 0)\n",
    "\n",
    "#STARA WERSJA\n",
    "#mg = np.sqrt(gx ** 2 + gy ** 2)"
   ]
  },
  {
   "cell_type": "code",
   "execution_count": 19,
   "id": "582b04c5",
   "metadata": {},
   "outputs": [],
   "source": [
    "# Threshold the gradient magnitude image\n",
    "#mgBw = mg > 0.20 * np.max(mg)\n",
    "\n",
    "#areaSize = (7,7)\n",
    "#threshold = 0.15\n",
    "\n",
    "areaSize = (1,1)\n",
    "threshold_for_mask = 0.15\n",
    "\n",
    "mask = get_mask(mg, threshold_for_mask, areaSize)\n",
    "# Perform morphological operations to remove small objects and fill holes\n",
    "#mgBw = cv2.morphologyEx(mgBw.astype(np.uint8), cv2.MORPH_CLOSE,\n",
    "#                        cv2.getStructuringElement(cv2.MORPH_ELLIPSE, areaSize))\n",
    "#print(mgBw)\n",
    "show_image(mask*255, 'firstmask')"
   ]
  },
  {
   "cell_type": "code",
   "execution_count": 20,
   "id": "d5dfa6f6",
   "metadata": {},
   "outputs": [],
   "source": [
    "# Substitude binary true pixels with colors from original image using cv2\n",
    "\n",
    "mask = cv2.bitwise_and(image_work, image_work, mask=mask.astype(np.uint8))\n",
    "#show_image(mask, 'bitwise')\n"
   ]
  },
  {
   "cell_type": "code",
   "execution_count": 21,
   "id": "52ef5c34",
   "metadata": {},
   "outputs": [],
   "source": [
    "# remove all pixels with value below threshold using opencv\n",
    "# convert to grayscale\n",
    "mask = cv2.cvtColor(mask, cv2.COLOR_BGR2GRAY)\n",
    "#show_image(mask, 'color')\n",
    "#threshold = 180\n",
    "threshold = 180\n",
    "mask = cv2.threshold(mask, threshold, 255, cv2.THRESH_BINARY)[1]\n",
    "\n",
    "################################\n",
    "#mgBw = cv2.bitwise_and(im1, im1, mask=mgBw.astype(np.uint8))\n",
    "#show_image(mgBw, 'after morph')\n",
    "\n",
    "#mgBw = cv2.cvtColor(mgBw, cv2.COLOR_BGR2GRAY)\n",
    "################################\n",
    "show_image(mask, 'after threshold')\n",
    "\n",
    "#domykanie konturu WERSJA BETA\n",
    "M=cv2.getStructuringElement(cv2.MORPH_ELLIPSE, (5,5))\n",
    "mask=cv2.morphologyEx(mask, cv2.MORPH_CLOSE, M)\n",
    "#print(mgBw)\n",
    "show_image(mask, 'close')"
   ]
  },
  {
   "cell_type": "code",
   "execution_count": 22,
   "id": "87296d96",
   "metadata": {},
   "outputs": [
    {
     "data": {
      "text/plain": [
       "True"
      ]
     },
     "execution_count": 22,
     "metadata": {},
     "output_type": "execute_result"
    }
   ],
   "source": [
    " # draw mask on the image\n",
    "contours, hierarchy = cv2.findContours(mask, cv2.RETR_TREE, cv2.CHAIN_APPROX_SIMPLE)\n",
    "cv2.drawContours(image_work, contours, -1, (0, 0, 255), 1)\n",
    "show_image(image_work, 'maska')\n",
    "cv2.imwrite('v1.0/konturF.jpg', image_work)"
   ]
  },
  {
   "cell_type": "code",
   "execution_count": 23,
   "id": "8ec6ac16",
   "metadata": {},
   "outputs": [
    {
     "data": {
      "text/plain": [
       "True"
      ]
     },
     "execution_count": 23,
     "metadata": {},
     "output_type": "execute_result"
    }
   ],
   "source": [
    "# Save mask\n",
    "show_image(mask, 'Mask')\n",
    "cv2.imwrite('v1.0/MaskF.jpg', mask)"
   ]
  },
  {
   "cell_type": "code",
   "execution_count": 24,
   "id": "4cbb5653",
   "metadata": {},
   "outputs": [
    {
     "data": {
      "text/plain": [
       "True"
      ]
     },
     "execution_count": 24,
     "metadata": {},
     "output_type": "execute_result"
    }
   ],
   "source": [
    "# apply morphology dilate\n",
    "wideMask = mask.copy()\n",
    "kernel = cv2.getStructuringElement(cv2.MORPH_ELLIPSE, (5,5))\n",
    "wideMask = cv2.morphologyEx(wideMask, cv2.MORPH_DILATE, kernel)\n",
    "cv2.imwrite('v1.0/final_maskF.jpg', wideMask)"
   ]
  },
  {
   "cell_type": "code",
   "execution_count": 25,
   "id": "5c167f55",
   "metadata": {},
   "outputs": [
    {
     "data": {
      "text/plain": [
       "True"
      ]
     },
     "execution_count": 25,
     "metadata": {},
     "output_type": "execute_result"
    }
   ],
   "source": [
    "# Paint the mask using nearest neighbor interpolation\n",
    "final_imageF = cv2.inpaint(final_image, wideMask, 5, cv2.INPAINT_TELEA)\n",
    "cv2.imshow('input', image)\n",
    "cv2.imshow('input2', final_image)\n",
    "cv2.imshow('finalF', final_imageF)\n",
    "cv2.waitKey(0)\n",
    "cv2.destroyAllWindows()\n",
    "cv2.imwrite(\"v1.0/wynikF.jpg\", final_imageF)"
   ]
  },
  {
   "cell_type": "code",
   "execution_count": null,
   "id": "418224b7",
   "metadata": {},
   "outputs": [],
   "source": []
  },
  {
   "cell_type": "code",
   "execution_count": null,
   "id": "c93ba3da",
   "metadata": {},
   "outputs": [],
   "source": []
  },
  {
   "cell_type": "code",
   "execution_count": null,
   "id": "2027f153",
   "metadata": {},
   "outputs": [],
   "source": []
  },
  {
   "cell_type": "code",
   "execution_count": null,
   "id": "7398f16c",
   "metadata": {},
   "outputs": [],
   "source": []
  },
  {
   "cell_type": "code",
   "execution_count": null,
   "id": "e90988aa",
   "metadata": {},
   "outputs": [],
   "source": []
  }
 ],
 "metadata": {
  "kernelspec": {
   "display_name": "Python 3 (ipykernel)",
   "language": "python",
   "name": "python3"
  },
  "language_info": {
   "codemirror_mode": {
    "name": "ipython",
    "version": 3
   },
   "file_extension": ".py",
   "mimetype": "text/x-python",
   "name": "python",
   "nbconvert_exporter": "python",
   "pygments_lexer": "ipython3",
   "version": "3.9.13"
  }
 },
 "nbformat": 4,
 "nbformat_minor": 5
}
