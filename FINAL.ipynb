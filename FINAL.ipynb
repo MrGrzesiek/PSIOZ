{
 "cells": [
  {
   "cell_type": "code",
   "execution_count": 1,
   "id": "7eb62d85",
   "metadata": {},
   "outputs": [],
   "source": [
    "##################################\n",
    "#####-------NOTATKI---------######\n",
    "##################################\n",
    "\n",
    "#LEPSZA METODA WYPEŁNIENIA KONTURU\n",
    "#ZNALEŚĆ SPOSÓB NA POZBYCIE SIĘ ZIARNA\n",
    "#EWENTUALNE WYOSTRZANIE\n",
    "\n",
    "#BIG BOSS\n",
    "#AUTOMATYZACJA DOBORU PARAMETRÓW\n",
    "\n",
    "\n",
    "#####################################\n",
    "#####-------BIBLIOTEKI---------######\n",
    "#####################################\n",
    "\n",
    "import cv2\n",
    "import numpy as np\n",
    "from matplotlib import pyplot as plt\n",
    "import math\n",
    "\n",
    "####################################\n",
    "#####-------PARAMETRY---------######\n",
    "####################################\n",
    "\n",
    "ksize_inverse = 3\n",
    "ksize_normal = 3\n",
    "\n",
    "area_size_inverse = (1,1)\n",
    "area_size_normal = (1,1)\n",
    "threshold_for_mask_inverse = 0.75\n",
    "threshold_for_mask_normal = 0.2\n",
    "\n",
    "threshold_inverse = 70\n",
    "threshold_normal = 180\n",
    "\n",
    "kernel_size_close = (5,5)\n",
    "\n",
    "kernel_size_dilate = (5,5)\n",
    "\n",
    "TELEA_size = 5\n",
    "\n",
    "print_mid_result = 0\n",
    "\n",
    "load=\"dotestu/baba4.jpg\"\n",
    "save=\"wyniki/result.jpg\"\n",
    "\n",
    "#################################\n",
    "#####-------BACKUP---------######\n",
    "#################################\n",
    "#ksize_inverse = 3\n",
    "#ksize_normal = 3\n",
    "#area_size_inverse = (1,1)\n",
    "#area_size_normal = (1,1)\n",
    "#threshold_for_mask_inverse = 0.75\n",
    "#threshold_for_mask_normal = 0.2\n",
    "#threshold_inverse = 70\n",
    "#threshold_normal = 180\n",
    "#kernel_size_close = (5,5)\n",
    "#kernel_size_dilate = (5,5)\n",
    "#TELEA_size = 5\n",
    "#print_mid_result = 0\n",
    "#load=\"dotestu/baba3.jpg\"\n",
    "#save=\"wyniki/result.jpg\""
   ]
  },
  {
   "cell_type": "code",
   "execution_count": 2,
   "id": "b1e0c1ef",
   "metadata": {},
   "outputs": [],
   "source": [
    "def show_image(title, image):\n",
    "    cv2.imshow(title, image)\n",
    "    cv2.waitKey(0)\n",
    "    cv2.destroyAllWindows()"
   ]
  },
  {
   "cell_type": "code",
   "execution_count": 3,
   "id": "92f5d215",
   "metadata": {},
   "outputs": [],
   "source": [
    "def get_mask(magnitude, magnitude_threshold, area_size):\n",
    "    # Threshold the gradient magnitude image\n",
    "    magnitude_black_white = magnitude > magnitude_threshold * np.max(magnitude)\n",
    "    \n",
    "    # Perform morphological operations to remove small objects and fill holes\n",
    "    magnitude_black_white = cv2.morphologyEx(magnitude_black_white.astype(np.uint8), cv2.MORPH_CLOSE,\n",
    "                            cv2.getStructuringElement(cv2.MORPH_ELLIPSE, area_size))\n",
    "    return magnitude_black_white"
   ]
  },
  {
   "cell_type": "code",
   "execution_count": 4,
   "id": "f7c0f687",
   "metadata": {},
   "outputs": [],
   "source": [
    "# Load the input image\n",
    "image = cv2.imread(load)\n",
    "image_work = image.copy()\n",
    "image_work_inverse = image.copy()\n",
    "image_work_normal = image.copy()"
   ]
  },
  {
   "cell_type": "code",
   "execution_count": 5,
   "id": "da4b4325",
   "metadata": {},
   "outputs": [],
   "source": [
    "# Inverse by subtracting from 255\n",
    "image_work_inverse = 255 - image\n",
    "\n",
    "if print_mid_result == 1:\n",
    "    show_image('input', image)\n",
    "    show_image('inverse', image_work_inverse)"
   ]
  },
  {
   "cell_type": "code",
   "execution_count": 6,
   "id": "721df1af",
   "metadata": {},
   "outputs": [],
   "source": [
    "# Convert image to grayscale\n",
    "gray_image_inverse = cv2.cvtColor(image_work_inverse, cv2.COLOR_BGR2GRAY)\n",
    "gray_image_normal = cv2.cvtColor(image_work_normal, cv2.COLOR_BGR2GRAY)\n",
    "\n",
    "if print_mid_result == 1:\n",
    "    show_image('gray_image_inverse', gray_image_inverse)\n",
    "    show_image('gray_image_normal', gray_image_normal)"
   ]
  },
  {
   "cell_type": "code",
   "execution_count": 7,
   "id": "226c5278",
   "metadata": {},
   "outputs": [],
   "source": [
    "# Compute the image gradients using Sobel operators\n",
    "gx = cv2.Sobel(gray_image_inverse, cv2.CV_64F, 1, 0, ksize_inverse)\n",
    "gy = cv2.Sobel(gray_image_inverse, cv2.CV_64F, 0, 1, ksize_inverse)\n",
    "\n",
    "#NOWA WERSJA\n",
    "abs_grad_x = cv2.convertScaleAbs(gx)\n",
    "abs_grad_y = cv2.convertScaleAbs(gy)\n",
    "mg_inverse = cv2.addWeighted(abs_grad_x, 0.5, abs_grad_y, 0.5, 0)\n",
    "\n",
    "# Compute the image gradients using Sobel operators\n",
    "gx = cv2.Sobel(gray_image_normal, cv2.CV_64F, 1, 0, ksize_normal)\n",
    "gy = cv2.Sobel(gray_image_normal, cv2.CV_64F, 0, 1, ksize_normal)\n",
    "\n",
    "#NOWA WERSJA\n",
    "abs_grad_x = cv2.convertScaleAbs(gx)\n",
    "abs_grad_y = cv2.convertScaleAbs(gy)\n",
    "mg_normal = cv2.addWeighted(abs_grad_x, 0.5, abs_grad_y, 0.5, 0)"
   ]
  },
  {
   "cell_type": "code",
   "execution_count": 8,
   "id": "fed53811",
   "metadata": {},
   "outputs": [],
   "source": [
    "# Threshold the gradient magnitude image\n",
    "mask_inverse = get_mask(mg_inverse, threshold_for_mask_inverse, area_size_inverse)\n",
    "mask_normal = get_mask(mg_normal, threshold_for_mask_normal, area_size_normal)\n",
    "\n",
    "if print_mid_result == 1:\n",
    "    show_image('firstmask_inverse', mask_inverse*255)\n",
    "    show_image('firstmask_normal', mask_normal*255)"
   ]
  },
  {
   "cell_type": "code",
   "execution_count": 9,
   "id": "1c045f9b",
   "metadata": {},
   "outputs": [],
   "source": [
    "# Substitude binary true pixels with colors from original image using cv2\n",
    "mask_inverse = cv2.bitwise_and(image_work_inverse, image_work_inverse, mask=mask_inverse.astype(np.uint8))\n",
    "mask_normal = cv2.bitwise_and(image_work_normal, image_work_normal, mask=mask_normal.astype(np.uint8))\n",
    "\n",
    "# convert to grayscale    \n",
    "mask_inverse = cv2.cvtColor(mask_inverse, cv2.COLOR_BGR2GRAY)\n",
    "mask_normal = cv2.cvtColor(mask_normal, cv2.COLOR_BGR2GRAY)\n",
    "\n",
    "if print_mid_result == 1:\n",
    "    show_image('bitwise_inverse', mask_inverse)\n",
    "    show_image('bitwise_normal', mask_normal)"
   ]
  },
  {
   "cell_type": "code",
   "execution_count": 10,
   "id": "28d8de64",
   "metadata": {},
   "outputs": [
    {
     "data": {
      "text/plain": [
       "True"
      ]
     },
     "execution_count": 10,
     "metadata": {},
     "output_type": "execute_result"
    }
   ],
   "source": [
    "# remove all pixels with value below threshold using opencv\n",
    "mask_inverse = cv2.threshold(mask_inverse, threshold_inverse, 255, cv2.THRESH_BINARY)[1]\n",
    "mask_normal = cv2.threshold(mask_normal, threshold_normal, 255, cv2.THRESH_BINARY)[1]\n",
    "\n",
    "if print_mid_result == 1:\n",
    "    show_image('threshold_inverse', mask_inverse)\n",
    "    show_image('threshold_normal', mask_normal)\n",
    "\n",
    "#add two mask\n",
    "mask_add = cv2.add(mask_inverse,mask_normal)\n",
    "\n",
    "if print_mid_result == 1:\n",
    "    show_image('add', mask_add)\n",
    "\n",
    "#domykanie konturu WERSJA BETA\n",
    "M=cv2.getStructuringElement(cv2.MORPH_ELLIPSE, kernel_size_close)\n",
    "mask_add=cv2.morphologyEx(mask_add, cv2.MORPH_CLOSE, M)\n",
    "\n",
    "if print_mid_result == 1:\n",
    "    show_image('close mask', mask_add)\n",
    "    \n",
    "# Save mask\n",
    "cv2.imwrite('wyniki/mask.jpg', mask_add)\n",
    "cv2.imwrite('wyniki/mask_inverse.jpg', mask_inverse)\n",
    "cv2.imwrite('wyniki/mask_normal.jpg', mask_normal)"
   ]
  },
  {
   "cell_type": "code",
   "execution_count": 11,
   "id": "fd281d76",
   "metadata": {},
   "outputs": [
    {
     "data": {
      "text/plain": [
       "True"
      ]
     },
     "execution_count": 11,
     "metadata": {},
     "output_type": "execute_result"
    }
   ],
   "source": [
    "#draw mask on the image\n",
    "contours, hierarchy = cv2.findContours(mask_add, cv2.RETR_TREE, cv2.CHAIN_APPROX_SIMPLE)\n",
    "cv2.drawContours(image_work, contours, -1, (0, 0, 255), 1)\n",
    "if print_mid_result == 1:\n",
    "    show_image('contour', image_work)\n",
    "#save contour\n",
    "cv2.imwrite('wyniki/contour.jpg', image_work)"
   ]
  },
  {
   "cell_type": "code",
   "execution_count": 12,
   "id": "a65c6736",
   "metadata": {},
   "outputs": [
    {
     "data": {
      "text/plain": [
       "True"
      ]
     },
     "execution_count": 12,
     "metadata": {},
     "output_type": "execute_result"
    }
   ],
   "source": [
    "#apply morphology dilate\n",
    "wide_mask = mask_add.copy()\n",
    "kernel = cv2.getStructuringElement(cv2.MORPH_ELLIPSE, kernel_size_dilate)\n",
    "wide_mask = cv2.morphologyEx(wide_mask, cv2.MORPH_DILATE, kernel)\n",
    "if print_mid_result == 1:\n",
    "    show_image('contour', wide_mask)\n",
    "cv2.imwrite('wyniki/wide_mask.jpg', wide_mask)"
   ]
  },
  {
   "cell_type": "code",
   "execution_count": 13,
   "id": "e4dc15d4",
   "metadata": {},
   "outputs": [
    {
     "data": {
      "text/plain": [
       "True"
      ]
     },
     "execution_count": 13,
     "metadata": {},
     "output_type": "execute_result"
    }
   ],
   "source": [
    "# Paint the mask using nearest neighbor interpolation\n",
    "final_image = cv2.inpaint(image, wide_mask, TELEA_size, cv2.INPAINT_TELEA)\n",
    "\n",
    "cv2.imshow('input', image)\n",
    "cv2.imshow('contour', image_work)\n",
    "cv2.imshow('output', final_image)\n",
    "cv2.waitKey(0)\n",
    "cv2.destroyAllWindows()\n",
    "\n",
    "cv2.imwrite(save, final_image)"
   ]
  }
 ],
 "metadata": {
  "kernelspec": {
   "display_name": "Python 3 (ipykernel)",
   "language": "python",
   "name": "python3"
  },
  "language_info": {
   "codemirror_mode": {
    "name": "ipython",
    "version": 3
   },
   "file_extension": ".py",
   "mimetype": "text/x-python",
   "name": "python",
   "nbconvert_exporter": "python",
   "pygments_lexer": "ipython3",
   "version": "3.9.13"
  }
 },
 "nbformat": 4,
 "nbformat_minor": 5
}
